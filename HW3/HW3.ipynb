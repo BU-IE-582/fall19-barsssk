{
 "cells": [
  {
   "cell_type": "markdown",
   "metadata": {},
   "source": [
    "# Barış Işık 2018702069 "
   ]
  },
  {
   "cell_type": "code",
   "execution_count": 1,
   "metadata": {},
   "outputs": [
    {
     "data": {
      "text/html": [
       "<style>.container { width:95% !important; }</style>"
      ],
      "text/plain": [
       "<IPython.core.display.HTML object>"
      ]
     },
     "metadata": {},
     "output_type": "display_data"
    }
   ],
   "source": [
    "import pandas as pd\n",
    "import numpy as np\n",
    "\n",
    "from IPython.core.display import display, HTML\n",
    "display(HTML(\"<style>.container { width:95% !important; }</style>\"))"
   ]
  },
  {
   "cell_type": "code",
   "execution_count": 2,
   "metadata": {},
   "outputs": [],
   "source": [
    "Consumption = pd.read_csv(\"EnergyConsumption.csv\",encoding = \"ISO-8859-1\")\n",
    "\n",
    "# rename columns\n",
    "Consumption.columns = [\"Date\",\"Hour\",\"Consumption_Mwh\"]"
   ]
  },
  {
   "cell_type": "markdown",
   "metadata": {},
   "source": [
    "- Some adjustments on  columns:"
   ]
  },
  {
   "cell_type": "code",
   "execution_count": 3,
   "metadata": {},
   "outputs": [],
   "source": [
    "Consumption[\"Consumption_Mwh\"] = Consumption[\"Consumption_Mwh\"].str.replace(\"\\.\",\"\").str.replace(\",\",\".\").astype(float)\n",
    "# YMDH is Year month day hour concatenated together as integer, this will be the key of the tableau \n",
    "Consumption[\"YMDH\"] = Consumption[\"Date\"].str.slice(start = 6, stop = 10) + Consumption[\"Date\"].str.slice(start = 3, stop = 5) + Consumption[\"Date\"].str.slice(start = 0, stop = 2) + Consumption[\"Hour\"].str.slice(start = 0, stop = 2)\n",
    "Consumption[\"YMDH\"] = Consumption[\"YMDH\"].astype(int)\n",
    "Consumption[\"Year\"] = Consumption[\"Date\"].str.slice(start = 6, stop = 10).astype(int)\n",
    "Consumption[\"Month\"] = Consumption[\"Date\"].str.slice(start = 3, stop = 5).astype(int)\n",
    "Consumption[\"Day\"] = Consumption[\"Date\"].str.slice(start = 0, stop = 2).astype(int)\n",
    "Consumption[\"Hour\"] = Consumption[\"Hour\"].str.slice(start = 0, stop = 2).astype(int)\n",
    "\n",
    "Consumption[\"Date\"] = pd.to_datetime(Consumption[\"Date\"],format='%d.%m.%Y')\n",
    "Consumption = Consumption.loc[Consumption.YMDH < 2019112400]"
   ]
  },
  {
   "cell_type": "code",
   "execution_count": 4,
   "metadata": {},
   "outputs": [],
   "source": [
    "Consumption = Consumption.sort_values(by=[\"YMDH\"])"
   ]
  },
  {
   "cell_type": "code",
   "execution_count": 5,
   "metadata": {},
   "outputs": [],
   "source": [
    "Consumption[\"Lag48\"] = Consumption.Consumption_Mwh.shift(48)\n",
    "Consumption[\"Lag168\"] = Consumption.Consumption_Mwh.shift(168)"
   ]
  },
  {
   "cell_type": "markdown",
   "metadata": {},
   "source": [
    "#### Part a-)"
   ]
  },
  {
   "cell_type": "code",
   "execution_count": 6,
   "metadata": {},
   "outputs": [],
   "source": [
    "Part_a = Consumption.loc[Consumption.YMDH > 2019110000].copy()"
   ]
  },
  {
   "cell_type": "code",
   "execution_count": 7,
   "metadata": {},
   "outputs": [],
   "source": [
    "Part_a[\"Part_a_48_MAPE\"] = abs(Part_a.Consumption_Mwh - Part_a.Lag48)/Part_a.Consumption_Mwh\n",
    "Part_a[\"Part_a_168_MAPE\"] = abs(Part_a.Consumption_Mwh - Part_a.Lag168)/Part_a.Consumption_Mwh"
   ]
  },
  {
   "cell_type": "code",
   "execution_count": 8,
   "metadata": {},
   "outputs": [],
   "source": [
    "ErrorSummary = Part_a.iloc[:,(Part_a.shape[1]-2):Part_a.shape[1]].describe()"
   ]
  },
  {
   "cell_type": "code",
   "execution_count": 9,
   "metadata": {},
   "outputs": [
    {
     "data": {
      "text/html": [
       "<div>\n",
       "<style scoped>\n",
       "    .dataframe tbody tr th:only-of-type {\n",
       "        vertical-align: middle;\n",
       "    }\n",
       "\n",
       "    .dataframe tbody tr th {\n",
       "        vertical-align: top;\n",
       "    }\n",
       "\n",
       "    .dataframe thead th {\n",
       "        text-align: right;\n",
       "    }\n",
       "</style>\n",
       "<table border=\"1\" class=\"dataframe\">\n",
       "  <thead>\n",
       "    <tr style=\"text-align: right;\">\n",
       "      <th></th>\n",
       "      <th>Part_a_48_MAPE</th>\n",
       "      <th>Part_a_168_MAPE</th>\n",
       "    </tr>\n",
       "  </thead>\n",
       "  <tbody>\n",
       "    <tr>\n",
       "      <td>count</td>\n",
       "      <td>552.000000</td>\n",
       "      <td>552.000000</td>\n",
       "    </tr>\n",
       "    <tr>\n",
       "      <td>mean</td>\n",
       "      <td>0.073793</td>\n",
       "      <td>0.028484</td>\n",
       "    </tr>\n",
       "    <tr>\n",
       "      <td>std</td>\n",
       "      <td>0.083057</td>\n",
       "      <td>0.034391</td>\n",
       "    </tr>\n",
       "    <tr>\n",
       "      <td>min</td>\n",
       "      <td>0.000016</td>\n",
       "      <td>0.000053</td>\n",
       "    </tr>\n",
       "    <tr>\n",
       "      <td>25%</td>\n",
       "      <td>0.009978</td>\n",
       "      <td>0.008477</td>\n",
       "    </tr>\n",
       "    <tr>\n",
       "      <td>50%</td>\n",
       "      <td>0.053919</td>\n",
       "      <td>0.017238</td>\n",
       "    </tr>\n",
       "    <tr>\n",
       "      <td>75%</td>\n",
       "      <td>0.093370</td>\n",
       "      <td>0.030742</td>\n",
       "    </tr>\n",
       "    <tr>\n",
       "      <td>max</td>\n",
       "      <td>0.418299</td>\n",
       "      <td>0.211999</td>\n",
       "    </tr>\n",
       "  </tbody>\n",
       "</table>\n",
       "</div>"
      ],
      "text/plain": [
       "       Part_a_48_MAPE  Part_a_168_MAPE\n",
       "count      552.000000       552.000000\n",
       "mean         0.073793         0.028484\n",
       "std          0.083057         0.034391\n",
       "min          0.000016         0.000053\n",
       "25%          0.009978         0.008477\n",
       "50%          0.053919         0.017238\n",
       "75%          0.093370         0.030742\n",
       "max          0.418299         0.211999"
      ]
     },
     "execution_count": 9,
     "metadata": {},
     "output_type": "execute_result"
    }
   ],
   "source": [
    "ErrorSummary"
   ]
  },
  {
   "cell_type": "markdown",
   "metadata": {},
   "source": [
    "- Looking at the sumamry table abova, naive forecast using a week ago's consumpiton has better than the other with 2 days ago's consumtion considering their accuracy comparing its mean, median and max MAPEs. It is something we would expect because of the weekly seasonality of the days. Both weekends and weekdays have their own patterns."
   ]
  },
  {
   "cell_type": "markdown",
   "metadata": {},
   "source": [
    "#### Part b-)"
   ]
  },
  {
   "cell_type": "code",
   "execution_count": 10,
   "metadata": {},
   "outputs": [],
   "source": [
    "from sklearn import linear_model\n",
    "import random"
   ]
  },
  {
   "cell_type": "code",
   "execution_count": 11,
   "metadata": {},
   "outputs": [],
   "source": [
    "Part_b_Train = Consumption.loc[(np.isnan(Consumption.Lag168) == False) & (Consumption.YMDH < 2019110000)].copy()\n",
    "Part_b_Test = Consumption.loc[Consumption.YMDH > 2019110000].copy()"
   ]
  },
  {
   "cell_type": "code",
   "execution_count": 12,
   "metadata": {},
   "outputs": [
    {
     "data": {
      "text/plain": [
       "LinearRegression(copy_X=True, fit_intercept=True, n_jobs=-1, normalize=False)"
      ]
     },
     "execution_count": 12,
     "metadata": {},
     "output_type": "execute_result"
    }
   ],
   "source": [
    "random.seed(15)\n",
    "Reg_b = linear_model.LinearRegression(n_jobs = -1)\n",
    "Reg_b.fit(X = Part_b_Train.loc[:,[\"Lag48\",\"Lag168\"]],y = Part_b_Train[\"Consumption_Mwh\"])"
   ]
  },
  {
   "cell_type": "code",
   "execution_count": 13,
   "metadata": {},
   "outputs": [],
   "source": [
    "Part_b_Test[\"Predict\"] = Reg_b.predict(Part_b_Test.loc[:,[\"Lag48\",\"Lag168\"]])\n",
    "Part_b_Test[\"Part_b_MAPE\"] = abs(Part_b_Test.Consumption_Mwh - Part_b_Test.Predict)/Part_b_Test.Consumption_Mwh"
   ]
  },
  {
   "cell_type": "code",
   "execution_count": 14,
   "metadata": {},
   "outputs": [],
   "source": [
    "ErrorSummary[\"Part_b_MAPE\"] = Part_b_Test.iloc[:,Part_b_Test.shape[1]-1].describe()"
   ]
  },
  {
   "cell_type": "code",
   "execution_count": 15,
   "metadata": {},
   "outputs": [
    {
     "data": {
      "text/html": [
       "<div>\n",
       "<style scoped>\n",
       "    .dataframe tbody tr th:only-of-type {\n",
       "        vertical-align: middle;\n",
       "    }\n",
       "\n",
       "    .dataframe tbody tr th {\n",
       "        vertical-align: top;\n",
       "    }\n",
       "\n",
       "    .dataframe thead th {\n",
       "        text-align: right;\n",
       "    }\n",
       "</style>\n",
       "<table border=\"1\" class=\"dataframe\">\n",
       "  <thead>\n",
       "    <tr style=\"text-align: right;\">\n",
       "      <th></th>\n",
       "      <th>Part_a_48_MAPE</th>\n",
       "      <th>Part_a_168_MAPE</th>\n",
       "      <th>Part_b_MAPE</th>\n",
       "    </tr>\n",
       "  </thead>\n",
       "  <tbody>\n",
       "    <tr>\n",
       "      <td>count</td>\n",
       "      <td>552.000000</td>\n",
       "      <td>552.000000</td>\n",
       "      <td>552.000000</td>\n",
       "    </tr>\n",
       "    <tr>\n",
       "      <td>mean</td>\n",
       "      <td>0.073793</td>\n",
       "      <td>0.028484</td>\n",
       "      <td>0.037992</td>\n",
       "    </tr>\n",
       "    <tr>\n",
       "      <td>std</td>\n",
       "      <td>0.083057</td>\n",
       "      <td>0.034391</td>\n",
       "      <td>0.038707</td>\n",
       "    </tr>\n",
       "    <tr>\n",
       "      <td>min</td>\n",
       "      <td>0.000016</td>\n",
       "      <td>0.000053</td>\n",
       "      <td>0.000042</td>\n",
       "    </tr>\n",
       "    <tr>\n",
       "      <td>25%</td>\n",
       "      <td>0.009978</td>\n",
       "      <td>0.008477</td>\n",
       "      <td>0.011008</td>\n",
       "    </tr>\n",
       "    <tr>\n",
       "      <td>50%</td>\n",
       "      <td>0.053919</td>\n",
       "      <td>0.017238</td>\n",
       "      <td>0.025363</td>\n",
       "    </tr>\n",
       "    <tr>\n",
       "      <td>75%</td>\n",
       "      <td>0.093370</td>\n",
       "      <td>0.030742</td>\n",
       "      <td>0.050647</td>\n",
       "    </tr>\n",
       "    <tr>\n",
       "      <td>max</td>\n",
       "      <td>0.418299</td>\n",
       "      <td>0.211999</td>\n",
       "      <td>0.225920</td>\n",
       "    </tr>\n",
       "  </tbody>\n",
       "</table>\n",
       "</div>"
      ],
      "text/plain": [
       "       Part_a_48_MAPE  Part_a_168_MAPE  Part_b_MAPE\n",
       "count      552.000000       552.000000   552.000000\n",
       "mean         0.073793         0.028484     0.037992\n",
       "std          0.083057         0.034391     0.038707\n",
       "min          0.000016         0.000053     0.000042\n",
       "25%          0.009978         0.008477     0.011008\n",
       "50%          0.053919         0.017238     0.025363\n",
       "75%          0.093370         0.030742     0.050647\n",
       "max          0.418299         0.211999     0.225920"
      ]
     },
     "execution_count": 15,
     "metadata": {},
     "output_type": "execute_result"
    }
   ],
   "source": [
    "ErrorSummary"
   ]
  },
  {
   "cell_type": "markdown",
   "metadata": {},
   "source": [
    "- Linear regression with input of lag 48 and lag 168 has slightly worse results then naive with lag 168. But it still covers the weakly seasonality and beats the naive with lag 48."
   ]
  },
  {
   "cell_type": "markdown",
   "metadata": {},
   "source": [
    "#### Part c-)"
   ]
  },
  {
   "cell_type": "code",
   "execution_count": 16,
   "metadata": {},
   "outputs": [],
   "source": [
    "Part_c_Train = Consumption.loc[(np.isnan(Consumption.Lag168) == False) & (Consumption.YMDH < 2019110000)].copy()\n",
    "Part_c_Test = Consumption.loc[Consumption.YMDH > 2019110000].copy()"
   ]
  },
  {
   "cell_type": "code",
   "execution_count": 17,
   "metadata": {},
   "outputs": [],
   "source": [
    "random.seed(15)\n",
    "for i in np.arange(0,24):\n",
    "    Reg_c = linear_model.LinearRegression(n_jobs = -1)\n",
    "    Reg_c.fit(X = Part_c_Train.loc[Part_c_Train.Hour == i,[\"Lag48\",\"Lag168\"]],y = Part_c_Train.loc[Part_c_Train.Hour == i,\"Consumption_Mwh\"])\n",
    "    Part_c_Test.loc[Part_c_Test.Hour == i,\"Predict\"] = Reg_c.predict(Part_c_Test.loc[Part_c_Test.Hour == i,[\"Lag48\",\"Lag168\"]])"
   ]
  },
  {
   "cell_type": "code",
   "execution_count": 18,
   "metadata": {},
   "outputs": [],
   "source": [
    "Part_c_Test[\"Part_c_MAPE\"] = abs(Part_c_Test.Consumption_Mwh - Part_c_Test.Predict)/Part_c_Test.Consumption_Mwh"
   ]
  },
  {
   "cell_type": "code",
   "execution_count": 19,
   "metadata": {},
   "outputs": [],
   "source": [
    "ErrorSummary[\"Part_c_MAPE\"] = Part_c_Test.iloc[:,Part_c_Test.shape[1]-1].describe()"
   ]
  },
  {
   "cell_type": "code",
   "execution_count": 20,
   "metadata": {},
   "outputs": [
    {
     "data": {
      "text/html": [
       "<div>\n",
       "<style scoped>\n",
       "    .dataframe tbody tr th:only-of-type {\n",
       "        vertical-align: middle;\n",
       "    }\n",
       "\n",
       "    .dataframe tbody tr th {\n",
       "        vertical-align: top;\n",
       "    }\n",
       "\n",
       "    .dataframe thead th {\n",
       "        text-align: right;\n",
       "    }\n",
       "</style>\n",
       "<table border=\"1\" class=\"dataframe\">\n",
       "  <thead>\n",
       "    <tr style=\"text-align: right;\">\n",
       "      <th></th>\n",
       "      <th>Part_a_48_MAPE</th>\n",
       "      <th>Part_a_168_MAPE</th>\n",
       "      <th>Part_b_MAPE</th>\n",
       "      <th>Part_c_MAPE</th>\n",
       "    </tr>\n",
       "  </thead>\n",
       "  <tbody>\n",
       "    <tr>\n",
       "      <td>count</td>\n",
       "      <td>552.000000</td>\n",
       "      <td>552.000000</td>\n",
       "      <td>552.000000</td>\n",
       "      <td>552.000000</td>\n",
       "    </tr>\n",
       "    <tr>\n",
       "      <td>mean</td>\n",
       "      <td>0.073793</td>\n",
       "      <td>0.028484</td>\n",
       "      <td>0.037992</td>\n",
       "      <td>0.038907</td>\n",
       "    </tr>\n",
       "    <tr>\n",
       "      <td>std</td>\n",
       "      <td>0.083057</td>\n",
       "      <td>0.034391</td>\n",
       "      <td>0.038707</td>\n",
       "      <td>0.035645</td>\n",
       "    </tr>\n",
       "    <tr>\n",
       "      <td>min</td>\n",
       "      <td>0.000016</td>\n",
       "      <td>0.000053</td>\n",
       "      <td>0.000042</td>\n",
       "      <td>0.000161</td>\n",
       "    </tr>\n",
       "    <tr>\n",
       "      <td>25%</td>\n",
       "      <td>0.009978</td>\n",
       "      <td>0.008477</td>\n",
       "      <td>0.011008</td>\n",
       "      <td>0.012847</td>\n",
       "    </tr>\n",
       "    <tr>\n",
       "      <td>50%</td>\n",
       "      <td>0.053919</td>\n",
       "      <td>0.017238</td>\n",
       "      <td>0.025363</td>\n",
       "      <td>0.028093</td>\n",
       "    </tr>\n",
       "    <tr>\n",
       "      <td>75%</td>\n",
       "      <td>0.093370</td>\n",
       "      <td>0.030742</td>\n",
       "      <td>0.050647</td>\n",
       "      <td>0.054245</td>\n",
       "    </tr>\n",
       "    <tr>\n",
       "      <td>max</td>\n",
       "      <td>0.418299</td>\n",
       "      <td>0.211999</td>\n",
       "      <td>0.225920</td>\n",
       "      <td>0.202304</td>\n",
       "    </tr>\n",
       "  </tbody>\n",
       "</table>\n",
       "</div>"
      ],
      "text/plain": [
       "       Part_a_48_MAPE  Part_a_168_MAPE  Part_b_MAPE  Part_c_MAPE\n",
       "count      552.000000       552.000000   552.000000   552.000000\n",
       "mean         0.073793         0.028484     0.037992     0.038907\n",
       "std          0.083057         0.034391     0.038707     0.035645\n",
       "min          0.000016         0.000053     0.000042     0.000161\n",
       "25%          0.009978         0.008477     0.011008     0.012847\n",
       "50%          0.053919         0.017238     0.025363     0.028093\n",
       "75%          0.093370         0.030742     0.050647     0.054245\n",
       "max          0.418299         0.211999     0.225920     0.202304"
      ]
     },
     "execution_count": 20,
     "metadata": {},
     "output_type": "execute_result"
    }
   ],
   "source": [
    "ErrorSummary"
   ]
  },
  {
   "cell_type": "markdown",
   "metadata": {},
   "source": [
    "- Training seperate linear fit to each hour does not make the overall MAPE better. One possible reason might be that individual models have less data so models tend to have more variance."
   ]
  },
  {
   "cell_type": "markdown",
   "metadata": {},
   "source": [
    "#### Part d-)"
   ]
  },
  {
   "cell_type": "code",
   "execution_count": 21,
   "metadata": {},
   "outputs": [],
   "source": [
    "Part_d = Consumption.loc[:,[\"Date\",\"Hour\",\"Consumption_Mwh\"]].copy()\n",
    "\n",
    "Part_d_pivot = Part_d.pivot(index = \"Date\",columns = \"Hour\", values = \"Consumption_Mwh\").copy()\n",
    "\n",
    "Part_d_pivot = Part_d_pivot.sort_values(by=[\"Date\"])\n",
    "Last48 = Part_d_pivot.shift(2)\n",
    "Last48.columns = [\"Hour\" + str(i) for i in range(0,24)]\n",
    "\n",
    "Last168 = Part_d_pivot.shift(7)\n",
    "Last168.columns = [\"Hour\" + str(i) for i in range(0,24)]\n",
    "\n",
    "Part_d_pivot = pd.merge(left = Last48,right = Last168,on = \"Date\" ,suffixes = ('_2daysAgo','_7daysAgo'))\n",
    "\n",
    "Part_d_pivot = Part_d_pivot.loc[np.isnan(Part_d_pivot.Hour14_7daysAgo) == False]\n",
    "\n",
    "FeatureCols = Part_d_pivot.columns.copy()\n",
    "\n",
    "Part_d = Part_d.merge(Part_d_pivot, on = \"Date\", how = \"inner\")"
   ]
  },
  {
   "cell_type": "code",
   "execution_count": 22,
   "metadata": {},
   "outputs": [],
   "source": [
    "from datetime import date\n",
    "Part_d_Train = Part_d.loc[Part_d.Date < pd.Timestamp(date(2019,11,1))]\n",
    "Part_d_Test = Part_d.loc[Part_d.Date >= pd.Timestamp(date(2019,11,1))]"
   ]
  },
  {
   "cell_type": "code",
   "execution_count": 23,
   "metadata": {},
   "outputs": [],
   "source": [
    "random.seed(15)\n",
    "from sklearn.linear_model import LassoCV\n",
    "for i in np.arange(0,24):\n",
    "    \n",
    "    Reg_d = LassoCV(cv=10,n_jobs = -1,max_iter=3000)\n",
    "    Target = Part_d_Train.columns.isin([\"Date\",\"Hour\",\"Consumption_Mwh\"])\n",
    "    Reg_d.fit(X = Part_d_Train.loc[Part_d_Train.Hour == i, ~Part_d_Train.columns.isin([\"Date\",\"Hour\",\"Consumption_Mwh\"])],\\\n",
    "                  y = Part_d_Train.loc[Part_d_Train.Hour == i,\"Consumption_Mwh\"])\n",
    "    Temp_hour = Part_d_Test.loc[Part_d_Test.Hour == i].copy()\n",
    "    if i == 0:\n",
    "        Temp_test = Temp_hour.copy()\n",
    "        Temp_test[\"Predict\"] = Reg_d.predict(Temp_hour.loc[:,~Part_d_Test.columns.isin([\"Date\",\"Hour\",\"Consumption_Mwh\"])])\n",
    "    else:\n",
    "        Temp_hour[\"Predict\"] = Reg_d.predict(Temp_hour.loc[:,~Part_d_Test.columns.isin([\"Date\",\"Hour\",\"Consumption_Mwh\"])])\n",
    "        Temp_test = Temp_test.append(Temp_hour) \n",
    "    \n",
    "Part_d_Test = Temp_test.copy()"
   ]
  },
  {
   "cell_type": "code",
   "execution_count": 24,
   "metadata": {},
   "outputs": [],
   "source": [
    "Part_d_Test[\"Part_d_MAPE\"] = abs(Part_d_Test.Consumption_Mwh - Part_d_Test.Predict)/Part_d_Test.Consumption_Mwh"
   ]
  },
  {
   "cell_type": "code",
   "execution_count": 25,
   "metadata": {},
   "outputs": [],
   "source": [
    "ErrorSummary[\"Part_d_MAPE\"] = Part_d_Test.iloc[:,Part_d_Test.shape[1]-1].describe()"
   ]
  },
  {
   "cell_type": "code",
   "execution_count": 26,
   "metadata": {},
   "outputs": [
    {
     "data": {
      "text/html": [
       "<div>\n",
       "<style scoped>\n",
       "    .dataframe tbody tr th:only-of-type {\n",
       "        vertical-align: middle;\n",
       "    }\n",
       "\n",
       "    .dataframe tbody tr th {\n",
       "        vertical-align: top;\n",
       "    }\n",
       "\n",
       "    .dataframe thead th {\n",
       "        text-align: right;\n",
       "    }\n",
       "</style>\n",
       "<table border=\"1\" class=\"dataframe\">\n",
       "  <thead>\n",
       "    <tr style=\"text-align: right;\">\n",
       "      <th></th>\n",
       "      <th>Part_a_48_MAPE</th>\n",
       "      <th>Part_a_168_MAPE</th>\n",
       "      <th>Part_b_MAPE</th>\n",
       "      <th>Part_c_MAPE</th>\n",
       "      <th>Part_d_MAPE</th>\n",
       "    </tr>\n",
       "  </thead>\n",
       "  <tbody>\n",
       "    <tr>\n",
       "      <td>count</td>\n",
       "      <td>552.000000</td>\n",
       "      <td>552.000000</td>\n",
       "      <td>552.000000</td>\n",
       "      <td>552.000000</td>\n",
       "      <td>552.000000</td>\n",
       "    </tr>\n",
       "    <tr>\n",
       "      <td>mean</td>\n",
       "      <td>0.073793</td>\n",
       "      <td>0.028484</td>\n",
       "      <td>0.037992</td>\n",
       "      <td>0.038907</td>\n",
       "      <td>0.023927</td>\n",
       "    </tr>\n",
       "    <tr>\n",
       "      <td>std</td>\n",
       "      <td>0.083057</td>\n",
       "      <td>0.034391</td>\n",
       "      <td>0.038707</td>\n",
       "      <td>0.035645</td>\n",
       "      <td>0.022223</td>\n",
       "    </tr>\n",
       "    <tr>\n",
       "      <td>min</td>\n",
       "      <td>0.000016</td>\n",
       "      <td>0.000053</td>\n",
       "      <td>0.000042</td>\n",
       "      <td>0.000161</td>\n",
       "      <td>0.000076</td>\n",
       "    </tr>\n",
       "    <tr>\n",
       "      <td>25%</td>\n",
       "      <td>0.009978</td>\n",
       "      <td>0.008477</td>\n",
       "      <td>0.011008</td>\n",
       "      <td>0.012847</td>\n",
       "      <td>0.008520</td>\n",
       "    </tr>\n",
       "    <tr>\n",
       "      <td>50%</td>\n",
       "      <td>0.053919</td>\n",
       "      <td>0.017238</td>\n",
       "      <td>0.025363</td>\n",
       "      <td>0.028093</td>\n",
       "      <td>0.017615</td>\n",
       "    </tr>\n",
       "    <tr>\n",
       "      <td>75%</td>\n",
       "      <td>0.093370</td>\n",
       "      <td>0.030742</td>\n",
       "      <td>0.050647</td>\n",
       "      <td>0.054245</td>\n",
       "      <td>0.031157</td>\n",
       "    </tr>\n",
       "    <tr>\n",
       "      <td>max</td>\n",
       "      <td>0.418299</td>\n",
       "      <td>0.211999</td>\n",
       "      <td>0.225920</td>\n",
       "      <td>0.202304</td>\n",
       "      <td>0.119143</td>\n",
       "    </tr>\n",
       "  </tbody>\n",
       "</table>\n",
       "</div>"
      ],
      "text/plain": [
       "       Part_a_48_MAPE  Part_a_168_MAPE  Part_b_MAPE  Part_c_MAPE  Part_d_MAPE\n",
       "count      552.000000       552.000000   552.000000   552.000000   552.000000\n",
       "mean         0.073793         0.028484     0.037992     0.038907     0.023927\n",
       "std          0.083057         0.034391     0.038707     0.035645     0.022223\n",
       "min          0.000016         0.000053     0.000042     0.000161     0.000076\n",
       "25%          0.009978         0.008477     0.011008     0.012847     0.008520\n",
       "50%          0.053919         0.017238     0.025363     0.028093     0.017615\n",
       "75%          0.093370         0.030742     0.050647     0.054245     0.031157\n",
       "max          0.418299         0.211999     0.225920     0.202304     0.119143"
      ]
     },
     "execution_count": 26,
     "metadata": {},
     "output_type": "execute_result"
    }
   ],
   "source": [
    "ErrorSummary"
   ]
  },
  {
   "cell_type": "markdown",
   "metadata": {},
   "source": [
    "- Model in part d beats the rest. Wide range format seems to work well. But we should note that both feautre set and the model we use has changed. I wanted to find the main reason behind the improvement in accuracy, so I tried lasso with features set in part c and usual linear regression with feature set in part d. They are not present in the reports but none of these models was successful. Combination of wide feature set and lasso is critical because lasso can handle large number of features where the linear regression cant."
   ]
  },
  {
   "cell_type": "markdown",
   "metadata": {},
   "source": [
    "#### Part f-) "
   ]
  },
  {
   "cell_type": "code",
   "execution_count": 27,
   "metadata": {},
   "outputs": [],
   "source": [
    "Part_a = Part_a.sort_values(by=[\"YMDH\"]).reset_index(drop = True).loc[:,[\"Part_a_48_MAPE\",\"Part_a_168_MAPE\"]]\n",
    "Part_b_Test = Part_b_Test.sort_values(by=[\"YMDH\"]).reset_index(drop = True).loc[:,\"Part_b_MAPE\"]\n",
    "Part_c_Test = Part_c_Test.sort_values(by=[\"YMDH\"]).reset_index(drop = True).loc[:,\"Part_c_MAPE\"]\n",
    "Part_d_Test = Part_d_Test.sort_values(by=[\"Date\",\"Hour\"]).reset_index(drop = True).loc[:,\"Part_d_MAPE\"]\n",
    "\n",
    "Plot = pd.concat([Part_a, Part_b_Test,Part_c_Test,Part_d_Test], axis=1)\n",
    "\n",
    "Plot = pd.melt(Plot, value_vars=Plot.columns)"
   ]
  },
  {
   "cell_type": "code",
   "execution_count": 29,
   "metadata": {},
   "outputs": [],
   "source": [
    "from plotnine import *\n",
    "\n",
    "p = ggplot(Plot, aes(x=\"variable\", y=\"value\")) + geom_boxplot()"
   ]
  },
  {
   "cell_type": "code",
   "execution_count": 30,
   "metadata": {},
   "outputs": [
    {
     "data": {
      "image/png": "[encoded data removed]",
      "text/plain": [
       "<Figure size 640x480 with 1 Axes>"
      ]
     },
     "metadata": {},
     "output_type": "display_data"
    },
    {
     "data": {
      "text/plain": [
       "<ggplot: (81714028040)>"
      ]
     },
     "execution_count": 30,
     "metadata": {},
     "output_type": "execute_result"
    }
   ],
   "source": [
    "p"
   ]
  },
  {
   "cell_type": "markdown",
   "metadata": {},
   "source": [
    "- Both mean and range(also imlies standard deviation) of the errors in part a with lag 168 and part is is considerably narrower compared to others."
   ]
  }
 ],
 "metadata": {
  "kernelspec": {
   "display_name": "Python 3",
   "language": "python",
   "name": "python3"
  },
  "language_info": {
   "codemirror_mode": {
    "name": "ipython",
    "version": 3
   },
   "file_extension": ".py",
   "mimetype": "text/x-python",
   "name": "python",
   "nbconvert_exporter": "python",
   "pygments_lexer": "ipython3",
   "version": "3.7.3"
  }
 },
 "nbformat": 4,
 "nbformat_minor": 2
}
